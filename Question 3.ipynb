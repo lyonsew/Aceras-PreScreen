{
 "cells": [
  {
   "cell_type": "code",
   "execution_count": 85,
   "metadata": {},
   "outputs": [],
   "source": [
    "text = \"\"\"As a term, data analytics predominantly refers to an assortment of applications, from basic \\nbusiness intelligence (BI), reporting and online analytical processing (OLAP) to various forms of \\nadvanced analytics. In that sense, it's similar in nature to business analytics, another umbrella \\nterm for approaches to analyzing data -- with the difference that the latter is oriented to \\nbusiness uses, while data analytics has a broader focus. The expansive view of the term isn't \\nuniversal, though: In some cases, people use data analytics specifically to mean advanced \\nanalytics, treating BI as a separate category. Data analytics initiatives can help businesses \\nincrease revenues, improve operational efficiency, optimize marketing campaigns and customer \\nservice efforts, respond more quickly to emerging market trends and gain a competitive edge \\nover rivals -- all with the ultimate goal of boosting business performance. Depending on the \\nparticular application, the data that's analyzed can consist of either historical records or new \\ninformation that has been processed for real-time analytics uses. In addition, it can come from a \\nmix of internal systems and external data sources. At a high level, data analytics methodologies \\ninclude exploratory data analysis (EDA), which aims to find patterns and relationships in data, \\nand confirmatory data analysis (CDA), which applies statistical techniques to determine whether \\nhypotheses about a data set are true or false. EDA is often compared to detective work, while \\nCDA is akin to the work of a judge or jury during a court trial -- a distinction first drawn by \\nstatistician John W. Tukey in his 1977 book Exploratory Data Analysis. Data analytics can also \\nbe separated into quantitative data analysis and qualitative data analysis. The former involves \\nanalysis of numerical data with quantifiable variables that can be compared or measured \\nstatistically. The qualitative approach is more interpretive -- it focuses on understanding the \\ncontent of non-numerical data like text, images, audio and video, including common phrases, \\nthemes and points of view.\"\"\""
   ]
  },
  {
   "cell_type": "code",
   "execution_count": 88,
   "metadata": {},
   "outputs": [
    {
     "name": "stdout",
     "output_type": "stream",
     "text": [
      "as a term, data analytics predominantly refers to an assortment of applications, from basic \n",
      "business intelligence (bi), reporting and online analytical processing (olap) to various forms of \n",
      "advanced analytics. in that sense, it's similar in nature to business analytics, another umbrella \n",
      "term for approaches to analyzing data -- with the difference that the latter is oriented to \n",
      "business uses, while data analytics has a broader focus. the expansive view of the term isn't \n",
      "universal, though: in some cases, people use data analytics specifically to mean advanced \n",
      "analytics, treating bi as a separate category. data analytics initiatives can help businesses \n",
      "increase revenues, improve operational efficiency, optimize marketing campaigns and customer \n",
      "service efforts, respond more quickly to emerging market trends and gain a competitive edge \n",
      "over rivals -- all with the ultimate goal of boosting business performance. depending on the \n",
      "particular application, the data that's analyzed can consist of either historical records or new \n",
      "information that has been processed for real-time analytics uses. in addition, it can come from a \n",
      "mix of internal systems and external data sources. at a high level, data analytics methodologies \n",
      "include exploratory data analysis (eda), which aims to find patterns and relationships in data, \n",
      "and confirmatory data analysis (cda), which applies statistical techniques to determine whether \n",
      "hypotheses about a data set are true or false. eda is often compared to detective work, while \n",
      "cda is akin to the work of a judge or jury during a court trial -- a distinction first drawn by \n",
      "statistician john w. tukey in his 1977 book exploratory data analysis. data analytics can also \n",
      "be separated into quantitative data analysis and qualitative data analysis. the former involves \n",
      "analysis of numerical data with quantifiable variables that can be compared or measured \n",
      "statistically. the qualitative approach is more interpretive -- it focuses on understanding the \n",
      "content of non-numerical data like text, images, audio and video, including common phrases, \n",
      "themes and points of view.\n"
     ]
    }
   ],
   "source": [
    "text = text.lower()\n",
    "print(text)"
   ]
  },
  {
   "cell_type": "markdown",
   "metadata": {},
   "source": [
    "<h1><u>Count Probability of 'data' Appearing Each Line</u></h1>"
   ]
  },
  {
   "cell_type": "code",
   "execution_count": 100,
   "metadata": {},
   "outputs": [
    {
     "name": "stdout",
     "output_type": "stream",
     "text": [
      "Total of lines is:  23\n"
     ]
    }
   ],
   "source": [
    "#Count total of lines\n",
    "lines = text.splitlines()\n",
    "total_lines = len(lines)\n",
    "print(\"Total of lines is: \",total_lines)"
   ]
  },
  {
   "cell_type": "code",
   "execution_count": 55,
   "metadata": {},
   "outputs": [
    {
     "name": "stdout",
     "output_type": "stream",
     "text": [
      "['as', 'a', 'term', 'data', 'analytics', 'predominantly', 'refers', 'to', 'an', 'assortment', 'of', 'applications', 'from', 'basic', 'business', 'intelligence', 'bi', 'reporting', 'and', 'online', 'analytical', 'processing', 'olap', 'to', 'various', 'forms', 'of', 'advanced', 'analytics', 'in', 'that', 'sense', \"it's\", 'similar', 'in', 'nature', 'to', 'business', 'analytics', 'another', 'umbrella', 'term', 'for', 'approaches', 'to', 'analyzing', 'data', 'with', 'the', 'difference', 'that', 'the', 'latter', 'is', 'oriented', 'to', 'business', 'uses', 'while', 'data', 'analytics', 'has', 'a', 'broader', 'focus', 'the', 'expansive', 'view', 'of', 'the', 'term', \"isn't\", 'universal', 'though', 'in', 'some', 'cases', 'people', 'use', 'data', 'analytics', 'specifically', 'to', 'mean', 'advanced', 'analytics', 'treating', 'bi', 'as', 'a', 'separate', 'category', 'data', 'analytics', 'initiatives', 'can', 'help', 'businesses', 'increase', 'revenues', 'improve', 'operational', 'efficiency', 'optimize', 'marketing', 'campaigns', 'and', 'customer', 'service', 'efforts', 'respond', 'more', 'quickly', 'to', 'emerging', 'market', 'trends', 'and', 'gain', 'a', 'competitive', 'edge', 'over', 'rivals', 'all', 'with', 'the', 'ultimate', 'goal', 'of', 'boosting', 'business', 'performance', 'depending', 'on', 'the', 'particular', 'application', 'the', 'data', \"that's\", 'analyzed', 'can', 'consist', 'of', 'either', 'historical', 'records', 'or', 'new', 'information', 'that', 'has', 'been', 'processed', 'for', 'real', 'time', 'analytics', 'uses', 'in', 'addition', 'it', 'can', 'come', 'from', 'a', 'mix', 'of', 'internal', 'systems', 'and', 'external', 'data', 'sources', 'at', 'a', 'high', 'level', 'data', 'analytics', 'methodologies', 'include', 'exploratory', 'data', 'analysis', 'eda', 'which', 'aims', 'to', 'find', 'patterns', 'and', 'relationships', 'in', 'data', 'and', 'confirmatory', 'data', 'analysis', 'cda', 'which', 'applies', 'statistical', 'techniques', 'to', 'determine', 'whether', 'hypotheses', 'about', 'a', 'data', 'set', 'are', 'true', 'or', 'false', 'eda', 'is', 'often', 'compared', 'to', 'detective', 'work', 'while', 'cda', 'is', 'akin', 'to', 'the', 'work', 'of', 'a', 'judge', 'or', 'jury', 'during', 'a', 'court', 'trial', 'a', 'distinction', 'first', 'drawn', 'by', 'statistician', 'john', 'w', 'tukey', 'in', 'his', '1977', 'book', 'exploratory', 'data', 'analysis', 'data', 'analytics', 'can', 'also', 'be', 'separated', 'into', 'quantitative', 'data', 'analysis', 'and', 'qualitative', 'data', 'analysis', 'the', 'former', 'involves', 'analysis', 'of', 'numerical', 'data', 'with', 'quantifiable', 'variables', 'that', 'can', 'be', 'compared', 'or', 'measured', 'statistically', 'the', 'qualitative', 'approach', 'is', 'more', 'interpretive', 'it', 'focuses', 'on', 'understanding', 'the', 'content', 'of', 'non', 'numerical', 'data', 'like', 'text', 'images', 'audio', 'and', 'video', 'including', 'common', 'phrases', 'themes', 'and', 'points', 'of', 'view']\n",
      "\n",
      "Total words tokenized: 317 \n",
      "\n"
     ]
    }
   ],
   "source": [
    "#Total of words in the whole text\n",
    "re_words = re.findall(r\"(?<![@#])\\b\\w+(?:'\\w+)?\", text)\n",
    "print(re_words)\n",
    "\n",
    "re_total = len(re_words)\n",
    "print(\"\\nTotal words tokenized:\",re_total,\"\\n\")"
   ]
  },
  {
   "cell_type": "code",
   "execution_count": 70,
   "metadata": {},
   "outputs": [
    {
     "name": "stdout",
     "output_type": "stream",
     "text": [
      "Amount of 'data' in text:  18\n"
     ]
    }
   ],
   "source": [
    "#Count how many 'data' is inside the text\n",
    "count_data = 0\n",
    "for i in re_words:\n",
    "    if(i == 'data'):\n",
    "        count_data=count_data+1\n",
    "print(\"Amount of 'data' in text: \", count_data)"
   ]
  },
  {
   "cell_type": "code",
   "execution_count": 102,
   "metadata": {},
   "outputs": [
    {
     "name": "stdout",
     "output_type": "stream",
     "text": [
      "The probability of 'data' appearing in each line is:  0.782608695652174\n"
     ]
    }
   ],
   "source": [
    "#Probability of 'data' appearing in each line\n",
    "prob_data_line = count_data/total_lines\n",
    "print(\"The probability of 'data' appearing in each line is: \",prob_data_line)"
   ]
  },
  {
   "cell_type": "markdown",
   "metadata": {},
   "source": [
    "<h1><u>Distribution of Unique Words In Each Line</u></h1>"
   ]
  },
  {
   "cell_type": "code",
   "execution_count": 126,
   "metadata": {},
   "outputs": [],
   "source": [
    "from collections import Counter\n",
    "import pandas as pd\n",
    "unique_words_in_line = []\n",
    "\n",
    "for x in lines:\n",
    "    words_each_line = re.findall(r\"(?<![@#])\\b\\w+(?:'\\w+)?\", x)\n",
    "    uniqueWords = Counter(words_each_line).keys()\n",
    "    unique_words_in_line.append(len(uniqueWords))"
   ]
  },
  {
   "cell_type": "code",
   "execution_count": 139,
   "metadata": {},
   "outputs": [],
   "source": [
    "import seaborn as sns"
   ]
  },
  {
   "cell_type": "code",
   "execution_count": 148,
   "metadata": {},
   "outputs": [
    {
     "data": {
      "image/png": "[encoded data removed]",
      "text/plain": [
       "<Figure size 432x288 with 1 Axes>"
      ]
     },
     "metadata": {
      "needs_background": "light"
     },
     "output_type": "display_data"
    }
   ],
   "source": [
    "sns.histplot(unique_words_in_line, kde=True);"
   ]
  },
  {
   "cell_type": "markdown",
   "metadata": {},
   "source": [
    "<h1><u>Probability of 'analytics' occuring after 'data'</u></h1>"
   ]
  },
  {
   "cell_type": "code",
   "execution_count": 149,
   "metadata": {},
   "outputs": [],
   "source": [
    "from nltk.lm.preprocessing import padded_everygram_pipeline\n",
    "from nltk.lm import MLE\n",
    "from nltk.lm import Laplace\n",
    "\n",
    "tokenized_text = [list(map(str.lower, word_tokenize(sent))) \n",
    "              for sent in sent_tokenize(text)]"
   ]
  },
  {
   "cell_type": "code",
   "execution_count": 151,
   "metadata": {},
   "outputs": [
    {
     "name": "stdout",
     "output_type": "stream",
     "text": [
      "[['as', 'a', 'term', ',', 'data', 'analytics', 'predominantly', 'refers', 'to', 'an', 'assortment', 'of', 'applications', ',', 'from', 'basic', 'business', 'intelligence', '(', 'bi', ')', ',', 'reporting', 'and', 'online', 'analytical', 'processing', '(', 'olap', ')', 'to', 'various', 'forms', 'of', 'advanced', 'analytics', '.'], ['in', 'that', 'sense', ',', 'it', \"'s\", 'similar', 'in', 'nature', 'to', 'business', 'analytics', ',', 'another', 'umbrella', 'term', 'for', 'approaches', 'to', 'analyzing', 'data', '--', 'with', 'the', 'difference', 'that', 'the', 'latter', 'is', 'oriented', 'to', 'business', 'uses', ',', 'while', 'data', 'analytics', 'has', 'a', 'broader', 'focus', '.'], ['the', 'expansive', 'view', 'of', 'the', 'term', 'is', \"n't\", 'universal', ',', 'though', ':', 'in', 'some', 'cases', ',', 'people', 'use', 'data', 'analytics', 'specifically', 'to', 'mean', 'advanced', 'analytics', ',', 'treating', 'bi', 'as', 'a', 'separate', 'category', '.'], ['data', 'analytics', 'initiatives', 'can', 'help', 'businesses', 'increase', 'revenues', ',', 'improve', 'operational', 'efficiency', ',', 'optimize', 'marketing', 'campaigns', 'and', 'customer', 'service', 'efforts', ',', 'respond', 'more', 'quickly', 'to', 'emerging', 'market', 'trends', 'and', 'gain', 'a', 'competitive', 'edge', 'over', 'rivals', '--', 'all', 'with', 'the', 'ultimate', 'goal', 'of', 'boosting', 'business', 'performance', '.'], ['depending', 'on', 'the', 'particular', 'application', ',', 'the', 'data', 'that', \"'s\", 'analyzed', 'can', 'consist', 'of', 'either', 'historical', 'records', 'or', 'new', 'information', 'that', 'has', 'been', 'processed', 'for', 'real-time', 'analytics', 'uses', '.'], ['in', 'addition', ',', 'it', 'can', 'come', 'from', 'a', 'mix', 'of', 'internal', 'systems', 'and', 'external', 'data', 'sources', '.'], ['at', 'a', 'high', 'level', ',', 'data', 'analytics', 'methodologies', 'include', 'exploratory', 'data', 'analysis', '(', 'eda', ')', ',', 'which', 'aims', 'to', 'find', 'patterns', 'and', 'relationships', 'in', 'data', ',', 'and', 'confirmatory', 'data', 'analysis', '(', 'cda', ')', ',', 'which', 'applies', 'statistical', 'techniques', 'to', 'determine', 'whether', 'hypotheses', 'about', 'a', 'data', 'set', 'are', 'true', 'or', 'false', '.'], ['eda', 'is', 'often', 'compared', 'to', 'detective', 'work', ',', 'while', 'cda', 'is', 'akin', 'to', 'the', 'work', 'of', 'a', 'judge', 'or', 'jury', 'during', 'a', 'court', 'trial', '--', 'a', 'distinction', 'first', 'drawn', 'by', 'statistician', 'john', 'w.', 'tukey', 'in', 'his', '1977', 'book', 'exploratory', 'data', 'analysis', '.'], ['data', 'analytics', 'can', 'also', 'be', 'separated', 'into', 'quantitative', 'data', 'analysis', 'and', 'qualitative', 'data', 'analysis', '.'], ['the', 'former', 'involves', 'analysis', 'of', 'numerical', 'data', 'with', 'quantifiable', 'variables', 'that', 'can', 'be', 'compared', 'or', 'measured', 'statistically', '.'], ['the', 'qualitative', 'approach', 'is', 'more', 'interpretive', '--', 'it', 'focuses', 'on', 'understanding', 'the', 'content', 'of', 'non-numerical', 'data', 'like', 'text', ',', 'images', ',', 'audio', 'and', 'video', ',', 'including', 'common', 'phrases', ',', 'themes', 'and', 'points', 'of', 'view', '.']]\n"
     ]
    }
   ],
   "source": [
    "print(tokenized_text)"
   ]
  },
  {
   "cell_type": "code",
   "execution_count": 178,
   "metadata": {},
   "outputs": [],
   "source": [
    "n = 2\n",
    "train_data, padded_sents = padded_everygram_pipeline(n, tokenized_text)"
   ]
  },
  {
   "cell_type": "code",
   "execution_count": 179,
   "metadata": {},
   "outputs": [],
   "source": [
    "model = MLE(n)\n",
    "model.fit(train_data, padded_sents)"
   ]
  },
  {
   "cell_type": "code",
   "execution_count": 181,
   "metadata": {},
   "outputs": [
    {
     "name": "stdout",
     "output_type": "stream",
     "text": [
      "The probability of 'analytics' coming after 'data' is:  0.3333333333333333\n"
     ]
    }
   ],
   "source": [
    "print(\"The probability of 'analytics' coming after 'data' is: \", model.score('analytics','data'.split()))"
   ]
  },
  {
   "cell_type": "code",
   "execution_count": null,
   "metadata": {},
   "outputs": [],
   "source": []
  }
 ],
 "metadata": {
  "kernelspec": {
   "display_name": "Python 3",
   "language": "python",
   "name": "python3"
  },
  "language_info": {
   "codemirror_mode": {
    "name": "ipython",
    "version": 3
   },
   "file_extension": ".py",
   "mimetype": "text/x-python",
   "name": "python",
   "nbconvert_exporter": "python",
   "pygments_lexer": "ipython3",
   "version": "3.8.5"
  }
 },
 "nbformat": 4,
 "nbformat_minor": 4
}
